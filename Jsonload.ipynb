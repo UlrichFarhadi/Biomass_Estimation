{
 "cells": [
  {
   "cell_type": "code",
   "execution_count": 18,
   "metadata": {},
   "outputs": [
    {
     "name": "stdout",
     "output_type": "stream",
     "text": [
      "2\n"
     ]
    }
   ],
   "source": [
    "import json\n",
    "\n",
    "with open(\"Dataset\\GroundTruth.json\") as f:\n",
    "    data = f.read()\n",
    "js = json.loads(data)\n",
    "with open(\"Dataset\\GroundTruth_SendJuly6.json\") as f:\n",
    "    data1 = f.read()\n",
    "js1 = json.loads(data1)\n",
    "with open(\"Dataset\\GroundTruth_SendJuly13.json\") as f:\n",
    "    data2 = f.read()\n",
    "js2 = json.loads(data2)\n",
    "with open(\"Dataset\\GroundTruth_SendJune8.json\") as f:\n",
    "    data3 = f.read()\n",
    "js3 = json.loads(data3)\n",
    "with open(\"Dataset\\GroundTruth_SendJune15.json\") as f:\n",
    "    data4 = f.read()\n",
    "js4 = json.loads(data4)\n",
    "with open(\"Dataset\\GroundTruth_SendJune22.json\") as f:\n",
    "    data5 = f.read()\n",
    "js5 = json.loads(data5)\n",
    "with open(\"Dataset\\GroundTruth_SendJune29.json\") as f:\n",
    "    data6 = f.read()\n",
    "js6 = json.loads(data6)\n",
    "\n",
    "print(len(js))"
   ]
  },
  {
   "cell_type": "code",
   "execution_count": 35,
   "metadata": {},
   "outputs": [
    {
     "name": "stdout",
     "output_type": "stream",
     "text": [
      "{'Variety': 'Satine', 'RGBImage': 'RGB_3.png', 'DebthInformation': 'Debth_3.png', 'FreshWeightShoot': 2.0, 'DryWeightShoot': 0.09, 'Height': 7.5, 'Diameter': 9.5, 'LeafArea': 65.0}\n"
     ]
    }
   ],
   "source": [
    "def find_data(image_number):\n",
    "    if js.get(\"Measurements\").get(\"Image\" + image_number) != None:\n",
    "        return js.get(\"Measurements\").get(\"Image\" + image_number)\n",
    "    elif js1.get(\"Measurements\").get(\"Image\" + image_number) != None:\n",
    "        return js1.get(\"Measurements\").get(\"Image\" + image_number)\n",
    "    elif js2.get(\"Measurements\").get(\"Image\" + image_number) != None:\n",
    "        return js2.get(\"Measurements\").get(\"Image\" + image_number)\n",
    "    elif js3.get(\"Measurements\").get(\"Image\" + image_number) != None:\n",
    "        return js3.get(\"Measurements\").get(\"Image\" + image_number)\n",
    "    elif js4.get(\"Measurements\").get(\"Image\" + image_number) != None:\n",
    "        return js4.get(\"Measurements\").get(\"Image\" + image_number)\n",
    "    elif js5.get(\"Measurements\").get(\"Image\" + image_number) != None:\n",
    "        return js5.get(\"Measurements\").get(\"Image\" + image_number)\n",
    "    elif js6.get(\"Measurements\").get(\"Image\" + image_number) != None:\n",
    "        return js6.get(\"Measurements\").get(\"Image\" + image_number)\n",
    "    else:\n",
    "        print(\"vi mangler \"+ image_number)\n",
    "\n",
    "\n",
    "\n",
    "import glob\n",
    "import re\n",
    "image_list = []\n",
    "data_dict = {}\n",
    "for filename in glob.glob('Dataset/Debth*.png'): #assuming gif\n",
    "    num = re.findall(r'\\d+',filename )\n",
    "    #print(num)\n",
    "    data_dict[num[0]] = find_data(num[0])\n",
    "    \n",
    "    # im=Image.open(filename)\n",
    "    # im = np.array(im)\n",
    "    # image_list.append(im)\n",
    "\n",
    "print(data_dict.get(\"3\"))\n",
    "\n",
    "with open('result.json', 'w') as fp:\n",
    "    json.dump(data_dict, fp)"
   ]
  }
 ],
 "metadata": {
  "kernelspec": {
   "display_name": "Python 3.10.8 64-bit",
   "language": "python",
   "name": "python3"
  },
  "language_info": {
   "codemirror_mode": {
    "name": "ipython",
    "version": 3
   },
   "file_extension": ".py",
   "mimetype": "text/x-python",
   "name": "python",
   "nbconvert_exporter": "python",
   "pygments_lexer": "ipython3",
   "version": "3.10.8"
  },
  "orig_nbformat": 4,
  "vscode": {
   "interpreter": {
    "hash": "a569b293e0c6f5b8d5c7b027c77c352cc6b942ffb1eb577576f1f20f41e9121b"
   }
  }
 },
 "nbformat": 4,
 "nbformat_minor": 2
}
